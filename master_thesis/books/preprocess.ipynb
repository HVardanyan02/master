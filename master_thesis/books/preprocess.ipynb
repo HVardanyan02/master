{
 "cells": [
  {
   "cell_type": "code",
   "execution_count": 17,
   "id": "4de765cf",
   "metadata": {},
   "outputs": [],
   "source": [
    "from util import downloading_flib"
   ]
  },
  {
   "cell_type": "markdown",
   "id": "53a46ec8",
   "metadata": {},
   "source": [
    "Businees"
   ]
  },
  {
   "cell_type": "code",
   "execution_count": null,
   "id": "d40cbe15",
   "metadata": {},
   "outputs": [],
   "source": [
    "genre_url = \"https://flibusta.one/books-genres/67-upravlenie-biznesom/\"\n",
    "klass = \"business\"\n",
    "pages = 60\n",
    "\n",
    "downloading_flib(genre_url, klass, pages)"
   ]
  },
  {
   "cell_type": "code",
   "execution_count": null,
   "id": "52a73700",
   "metadata": {},
   "outputs": [],
   "source": [
    "genre_url = \"https://flibusta.one/books-genres/89-effektivnost-biznesa/\"\n",
    "klass = \"business\"\n",
    "pages = 60\n",
    "\n",
    "downloading_flib(genre_url, klass, pages)"
   ]
  },
  {
   "cell_type": "code",
   "execution_count": null,
   "id": "7ad920f6",
   "metadata": {},
   "outputs": [],
   "source": [
    "genre_url = \"https://flibusta.one/books-genres/34-malyiy-i-sredniy-biznes/\"\n",
    "klass = \"business\"\n",
    "pages = 60\n",
    "\n",
    "downloading_flib(genre_url, klass, pages)"
   ]
  },
  {
   "cell_type": "code",
   "execution_count": null,
   "id": "2b1163fd",
   "metadata": {},
   "outputs": [],
   "source": [
    "genre_url = \"https://flibusta.one/books-genres/84-prosto-o-biznese/\"\n",
    "klass = \"business\"\n",
    "pages = 60\n",
    "\n",
    "downloading_flib(genre_url, klass, pages)"
   ]
  },
  {
   "cell_type": "code",
   "execution_count": null,
   "id": "1a015efd",
   "metadata": {},
   "outputs": [],
   "source": [
    "genre_url = \"https://flibusta.one/books-genres/60-biznes-protsessyi/\"\n",
    "klass = \"business\"\n",
    "pages = 60\n",
    "\n",
    "downloading_flib(genre_url, klass, pages)"
   ]
  },
  {
   "cell_type": "markdown",
   "id": "28ad60d7",
   "metadata": {},
   "source": [
    "Action"
   ]
  },
  {
   "cell_type": "code",
   "execution_count": null,
   "id": "3547cf36",
   "metadata": {},
   "outputs": [],
   "source": [
    "genre_url = \"https://flibusta.one/books-genres/853-boeviki/\"\n",
    "klass = \"boeviki\"\n",
    "pages = 60\n",
    "\n",
    "downloading_flib(genre_url, klass, pages)\n"
   ]
  },
  {
   "cell_type": "code",
   "execution_count": null,
   "id": "0c437c5b",
   "metadata": {},
   "outputs": [],
   "source": [
    "genre_url = \"https://flibusta.one/books-genres/856-kriminalnyie-boeviki/\"\n",
    "klass = \"boeviki\"\n",
    "pages = 60\n",
    "\n",
    "downloading_flib(genre_url, klass, pages)"
   ]
  },
  {
   "cell_type": "markdown",
   "id": "5c12bf8c",
   "metadata": {},
   "source": [
    "Detective"
   ]
  },
  {
   "cell_type": "code",
   "execution_count": null,
   "id": "2a916aa3",
   "metadata": {},
   "outputs": [],
   "source": [
    "genre_url = \"https://flibusta.one/books-genres/868-shpionskie-detektivyi/\"\n",
    "klass = \"detektivy\"\n",
    "pages = 50\n",
    "\n",
    "downloading_flib(genre_url, klass, pages)"
   ]
  },
  {
   "cell_type": "code",
   "execution_count": 5,
   "id": "3a6b01d3",
   "metadata": {},
   "outputs": [],
   "source": [
    "genre_url = \"https://flibusta.one/books-genres/865-politseyskie-detektivyi/\"\n",
    "klass = \"detektivy\"\n",
    "pages = 50\n",
    "\n",
    "downloading_flib(genre_url, klass, pages)"
   ]
  },
  {
   "cell_type": "markdown",
   "id": "e1e206e3",
   "metadata": {},
   "source": [
    "Home managment"
   ]
  },
  {
   "cell_type": "code",
   "execution_count": null,
   "id": "28d9329a",
   "metadata": {},
   "outputs": [],
   "source": [
    "genre_url = \"https://flibusta.one/books-genres/392-dom-dacha/\"\n",
    "klass = \"dom_dacha\"\n",
    "pages = 50\n",
    "\n",
    "downloading_flib(genre_url, klass, pages)"
   ]
  },
  {
   "cell_type": "markdown",
   "id": "e664d90d",
   "metadata": {},
   "source": [
    "Psychology & Motivation"
   ]
  },
  {
   "cell_type": "code",
   "execution_count": null,
   "id": "fc7c82fb",
   "metadata": {},
   "outputs": [],
   "source": [
    "genre_url = \"https://flibusta.one/books-genres/941-psihologiya-motivatsiya/\"\n",
    "klass = \"psihologiya_motivatsiya\"\n",
    "pages = 50\n",
    "\n",
    "downloading_flib(genre_url, klass, pages)"
   ]
  },
  {
   "cell_type": "code",
   "execution_count": null,
   "id": "40ea499c",
   "metadata": {},
   "outputs": [],
   "source": [
    "\n",
    "genre_url = \"https://flibusta.one/books-genres/966-psihologiya-upravleniya/\"\n",
    "klass = \"psihologiya_motivatsiya\"\n",
    "pages = 50\n",
    "\n",
    "downloading_flib(genre_url, klass, pages)"
   ]
  },
  {
   "cell_type": "code",
   "execution_count": null,
   "id": "0dcb8e9e",
   "metadata": {},
   "outputs": [],
   "source": [
    "genre_url = \"https://flibusta.one/books-genres/972-semeynaya-psihologiya/\"\n",
    "klass = \"psihologiya_motivatsiya\"\n",
    "pages = 50\n",
    "\n",
    "downloading_flib(genre_url, klass, pages)\n"
   ]
  },
  {
   "cell_type": "markdown",
   "id": "63b0e4a6",
   "metadata": {},
   "source": [
    "Novels"
   ]
  },
  {
   "cell_type": "code",
   "execution_count": null,
   "id": "139fcfeb",
   "metadata": {},
   "outputs": [],
   "source": [
    "genre_url = \"https://flibusta.one/books-genres/883-sovremennyie-lyubovnyie-romanyi/\"\n",
    "klass = \"romani\"\n",
    "pages = 50\n",
    "\n",
    "downloading_flib(genre_url, klass, pages)"
   ]
  },
  {
   "cell_type": "code",
   "execution_count": null,
   "id": "036f46cf",
   "metadata": {},
   "outputs": [],
   "source": [
    "genre_url = \"https://flibusta.one/books-genres/874-klassicheskie-lyubovnyie-romanyi/\"\n",
    "klass = \"romani\"\n",
    "pages = 50\n",
    "\n",
    "downloading_flib(genre_url, klass, pages)"
   ]
  },
  {
   "cell_type": "code",
   "execution_count": null,
   "id": "2a9c3153",
   "metadata": {},
   "outputs": [],
   "source": [
    "genre_url = \"https://flibusta.one/books-genres/430-zarubezhnyie-lyubovnyie-romanyi/\"\n",
    "klass = \"romani\"\n",
    "pages = 50\n",
    "\n",
    "downloading_flib(genre_url, klass, pages)"
   ]
  },
  {
   "cell_type": "code",
   "execution_count": null,
   "id": "a8ed1664",
   "metadata": {},
   "outputs": [],
   "source": [
    "genre_url = \"https://flibusta.one/books-genres/843-istoricheskie-lyubovnyie-romanyi/\"\n",
    "klass = \"romani\"\n",
    "pages = 50\n",
    "\n",
    "downloading_flib(genre_url, klass, pages)"
   ]
  },
  {
   "cell_type": "markdown",
   "id": "c18e97b4",
   "metadata": {},
   "source": [
    "Science fiction & Fantastika"
   ]
  },
  {
   "cell_type": "code",
   "execution_count": null,
   "id": "d0ca06be",
   "metadata": {},
   "outputs": [],
   "source": [
    "genre_url = \"https://flibusta.one/books-genres/905-nauchnaya-fantastika/\"\n",
    "klass = \"fantastika\"\n",
    "pages = 50\n",
    "\n",
    "downloading_flib(genre_url, klass, pages)"
   ]
  },
  {
   "cell_type": "code",
   "execution_count": null,
   "id": "2128391e",
   "metadata": {},
   "outputs": [],
   "source": [
    "genre_url = \"https://flibusta.one/books-genres/898-geroicheskaya-fantastika/\"\n",
    "klass = \"fantastika\"\n",
    "\n",
    "downloading_flib(genre_url, klass, pages)"
   ]
  },
  {
   "cell_type": "markdown",
   "id": "184dbc4d",
   "metadata": {},
   "source": [
    "Hobbi & Leisure"
   ]
  },
  {
   "cell_type": "code",
   "execution_count": null,
   "id": "47a0870f",
   "metadata": {},
   "outputs": [],
   "source": [
    "genre_url = \"https://flibusta.one/books-genres/408-hobbi-uvlecheniya/\"\n",
    "klass = \"hobbi_dosug\"\n",
    "\n",
    "downloading_flib(genre_url, klass, pages)"
   ]
  },
  {
   "cell_type": "code",
   "execution_count": null,
   "id": "f8f1489b",
   "metadata": {},
   "outputs": [],
   "source": [
    "genre_url = \"https://flibusta.one/books-genres/812-moda-i-stil/\"\n",
    "klass = \"hobbi_dosug\"\n",
    "pages = 60\n",
    "\n",
    "downloading_flib(genre_url, klass, pages)"
   ]
  },
  {
   "cell_type": "code",
   "execution_count": null,
   "id": "7a1e1cc2",
   "metadata": {},
   "outputs": [],
   "source": [
    "genre_url = \"https://flibusta.one/books-genres/399-otdyih-turizm/\"\n",
    "klass = \"hobbi_dosug\"\n",
    "pages = 60\n",
    "\n",
    "downloading_flib(genre_url, klass, pages)"
   ]
  },
  {
   "cell_type": "code",
   "execution_count": null,
   "id": "0e2b152f",
   "metadata": {},
   "outputs": [],
   "source": [
    "genre_url = \"https://flibusta.one/books-genres/406-sdelay-sam/\"\n",
    "klass = \"hobbi_dosug\"\n",
    "pages = 60\n",
    "\n",
    "downloading_flib(genre_url, klass, pages)"
   ]
  },
  {
   "cell_type": "code",
   "execution_count": null,
   "id": "6de98d60",
   "metadata": {},
   "outputs": [],
   "source": [
    "genre_url = \"https://flibusta.one/books-genres/400-ohota/\"\n",
    "klass = \"hobbi_dosug\"\n",
    "pages = 60\n",
    "\n",
    "downloading_flib(genre_url, klass, pages)"
   ]
  },
  {
   "cell_type": "code",
   "execution_count": null,
   "id": "6898a53c",
   "metadata": {},
   "outputs": [],
   "source": [
    "genre_url = \"https://flibusta.one/books-genres/403-rukodelie-i-remesla/\"\n",
    "klass = \"hobbi_dosug\"\n",
    "\n",
    "downloading_flib(genre_url, klass, pages)"
   ]
  },
  {
   "cell_type": "code",
   "execution_count": null,
   "id": "8bd1f69f",
   "metadata": {},
   "outputs": [],
   "source": [
    "genre_url = \"https://flibusta.one/books-genres/404-ryibalka/\"\n",
    "klass = \"hobbi_dosug\"\n",
    "pages = 60\n",
    "\n",
    "downloading_flib(genre_url, klass, pages)"
   ]
  },
  {
   "cell_type": "code",
   "execution_count": null,
   "id": "6690cb37",
   "metadata": {},
   "outputs": [],
   "source": [
    "genre_url = \"https://flibusta.one/books-genres/398-kulinariya/\"\n",
    "klass = \"hobbi_dosug\"\n",
    "\n",
    "downloading_flib(genre_url, klass, pages)"
   ]
  },
  {
   "cell_type": "markdown",
   "id": "220693a1",
   "metadata": {},
   "source": [
    "Sport, Health & Beauty"
   ]
  },
  {
   "cell_type": "code",
   "execution_count": null,
   "id": "f111cc8e",
   "metadata": {},
   "outputs": [],
   "source": [
    "genre_url = \"https://flibusta.one/books-genres/1201-pohudenie-i-dietyi/\"\n",
    "klass = \"sport_zdorove_krasota\"\n",
    "\n",
    "downloading_flib(genre_url, klass, pages)"
   ]
  },
  {
   "cell_type": "code",
   "execution_count": null,
   "id": "6658768f",
   "metadata": {},
   "outputs": [],
   "source": [
    "genre_url = \"https://flibusta.one/books-genres/1189-kosmetika-i-kosmetologiya/\"\n",
    "klass = \"sport_zdorove_krasota\"\n",
    "pages = 60\n",
    "\n",
    "downloading_flib(genre_url, klass, pages)"
   ]
  },
  {
   "cell_type": "code",
   "execution_count": null,
   "id": "676e6fa7",
   "metadata": {},
   "outputs": [],
   "source": [
    "genre_url = \"https://flibusta.one/books-genres/1196-zdorove/\"\n",
    "klass = \"sport_zdorove_krasota\"\n",
    "pages = 60\n",
    "\n",
    "downloading_flib(genre_url, klass, pages)"
   ]
  },
  {
   "cell_type": "markdown",
   "id": "78c50dd7",
   "metadata": {},
   "source": [
    "Poetry"
   ]
  },
  {
   "cell_type": "code",
   "execution_count": null,
   "id": "826d80df",
   "metadata": {},
   "outputs": [],
   "source": [
    "genre_url = \"https://flibusta.one/books-genres/416-zarubezhnaya-poeziya/\"\n",
    "klass = \"poeziya\"\n",
    "pages = 60\n",
    "\n",
    "downloading_flib(genre_url, klass, pages)"
   ]
  },
  {
   "cell_type": "code",
   "execution_count": null,
   "id": "5351d5f7",
   "metadata": {},
   "outputs": [],
   "source": [
    "genre_url = \"https://flibusta.one/books-genres/1154-stihi-i-poeziya/\"\n",
    "klass = \"poeziya\"\n",
    "\n",
    "downloading_flib(genre_url, klass, pages)"
   ]
  },
  {
   "cell_type": "code",
   "execution_count": null,
   "id": "c66b79d9",
   "metadata": {},
   "outputs": [],
   "source": [
    "genre_url = \"https://flibusta.one/books-genres/1153-russkaya-poeziya/\"\n",
    "klass = \"poeziya\"\n",
    "\n",
    "downloading_flib(genre_url, klass, pages)"
   ]
  },
  {
   "cell_type": "markdown",
   "id": "e8bffbf6",
   "metadata": {},
   "source": [
    "Knowledge & Skills"
   ]
  },
  {
   "cell_type": "code",
   "execution_count": null,
   "id": "1c6394bc",
   "metadata": {},
   "outputs": [],
   "source": [
    "genre_url = \"https://flibusta.one/books-genres/434-znaniya-i-navyiki/\"\n",
    "klass = \"znaniya_navyiki\"\n",
    "pages = 60\n",
    "\n",
    "downloading_flib(genre_url, klass, pages)"
   ]
  },
  {
   "cell_type": "markdown",
   "id": "2e1da0fd",
   "metadata": {},
   "source": [
    "Fantasy"
   ]
  },
  {
   "cell_type": "code",
   "execution_count": null,
   "id": "88ed8773",
   "metadata": {},
   "outputs": [],
   "source": [
    "genre_url = \"https://flibusta.one/books-genres/872-klassika-fentezi/\"\n",
    "klass = \"fentezi\"\n",
    "pages = 50\n",
    "\n",
    "downloading_flib(genre_url, klass, pages)"
   ]
  },
  {
   "cell_type": "code",
   "execution_count": 13,
   "id": "b670e18a",
   "metadata": {},
   "outputs": [],
   "source": [
    "from util import scanning"
   ]
  },
  {
   "cell_type": "code",
   "execution_count": null,
   "id": "37e85e4a",
   "metadata": {},
   "outputs": [],
   "source": [
    "# Սա աշխատացրած չէ\n",
    "path = \"booky/boeviki\"\n",
    "expected_list = []\n",
    "scanning(path, expected_list)\n",
    "\n",
    "path = \"booky/business\"\n",
    "scanning(path, expected_list)\n",
    "\n",
    "path = \"booky/detektivy\"\n",
    "scanning(path, expected_list)\n",
    "\n",
    "path = \"booky/dom_dacha\"\n",
    "scanning(path, expected_list)\n",
    "\n",
    "path = \"booky/fantastika\"\n",
    "scanning(path, expected_list)\n",
    "\n",
    "path = \"booky/fentezi\"\n",
    "scanning(path, expected_list)\n",
    "\n",
    "path = \"booky/hobbi_dosug\"\n",
    "scanning(path, expected_list)\n",
    "\n",
    "path = \"booky/romani\"\n",
    "scanning(path, expected_list)\n",
    "\n",
    "path = \"booky/sport_zdorove_krasota\"\n",
    "scanning(path, expected_list)\n",
    "\n",
    "print(expected_list)"
   ]
  },
  {
   "cell_type": "code",
   "execution_count": null,
   "id": "3406da08",
   "metadata": {},
   "outputs": [],
   "source": [
    "path = \"booky/boeviki\"\n",
    "expected_list = []\n",
    "\n",
    "scanning(path, expected_list)\n",
    "print(expected_list)\n",
    "# result   [5, 154, 79.5] at this moment"
   ]
  },
  {
   "cell_type": "code",
   "execution_count": null,
   "id": "a6447ff7",
   "metadata": {},
   "outputs": [],
   "source": [
    "path = \"booky/business\"\n",
    "expected_list = []\n",
    "\n",
    "scanning(path, expected_list)\n",
    "print(expected_list)\n",
    "# [5, 150, 77.5]"
   ]
  },
  {
   "cell_type": "code",
   "execution_count": null,
   "id": "8ed50a70",
   "metadata": {},
   "outputs": [],
   "source": [
    "path = \"booky/detektivy\"\n",
    "expected_list = []\n",
    "\n",
    "scanning(path, expected_list)\n",
    "print(expected_list)\n",
    "# [5, 170, 87.5]"
   ]
  },
  {
   "cell_type": "code",
   "execution_count": null,
   "id": "fe5b247e",
   "metadata": {},
   "outputs": [],
   "source": [
    "path = \"booky/dom_dacha\"\n",
    "expected_list = []\n",
    "\n",
    "scanning(path, expected_list)\n",
    "print(expected_list) \n",
    "# [5, 150, 77.5]"
   ]
  },
  {
   "cell_type": "code",
   "execution_count": null,
   "id": "72fabf1c",
   "metadata": {},
   "outputs": [],
   "source": [
    "path = \"booky/fantastika\"\n",
    "expected_list = []\n",
    "\n",
    "scanning(path, expected_list)\n",
    "print(expected_list)\n",
    "# [5, 194, 99.5] \n"
   ]
  },
  {
   "cell_type": "code",
   "execution_count": null,
   "id": "bf5662f0",
   "metadata": {},
   "outputs": [],
   "source": [
    "path = \"booky/fentezi\"\n",
    "expected_list = []\n",
    "\n",
    "scanning(path, expected_list)\n",
    "print(expected_list)\n",
    "# [12, 165, 88.5]"
   ]
  },
  {
   "cell_type": "code",
   "execution_count": null,
   "id": "528505c6",
   "metadata": {},
   "outputs": [],
   "source": [
    "path = \"booky/hobbi_dosug\"\n",
    "expected_list = []\n",
    "\n",
    "scanning(path, expected_list)\n",
    "print(expected_list)\n",
    "# [5, 302, 153.5]"
   ]
  },
  {
   "cell_type": "code",
   "execution_count": null,
   "id": "7536411e",
   "metadata": {},
   "outputs": [],
   "source": [
    "path = \"booky/romani\"\n",
    "expected_list = []\n",
    "\n",
    "scanning(path, expected_list)\n",
    "print(expected_list)\n",
    "# [5, 144, 74.5]"
   ]
  },
  {
   "cell_type": "code",
   "execution_count": null,
   "id": "78595167",
   "metadata": {},
   "outputs": [],
   "source": [
    "path = \"booky/sport_zdorove_krasota\"\n",
    "expected_list = []\n",
    "\n",
    "scanning(path, expected_list)\n",
    "print(expected_list)\n",
    "# [5, 196, 100.5]"
   ]
  },
  {
   "cell_type": "code",
   "execution_count": 2,
   "id": "37d9d667",
   "metadata": {},
   "outputs": [],
   "source": [
    "import pandas as pd\n",
    "from util import scanning_text"
   ]
  },
  {
   "cell_type": "code",
   "execution_count": null,
   "id": "0f29583c",
   "metadata": {},
   "outputs": [],
   "source": [
    "# boeviki 634\n",
    "# path_to_books = 'booky/boeviki'\n",
    "# expected_list = []\n",
    "# scanning_text(path_to_books, expected_list)\n",
    "# for item in expected_list:\n",
    "#     print(item)\n",
    "\n",
    "# business 610\n",
    "# path_to_books = 'booky/business'\n",
    "# scanning_text(path_to_books, expected_list)\n",
    "# # for item in expected_list:\n",
    "# #     print(item)\n",
    "\n",
    "# # detektivy 683\n",
    "# path_to_books = 'booky/detektivy'\n",
    "# scanning_text(path_to_books, expected_list)\n",
    "# # for item in expected_list:\n",
    "# #     print(item)\n",
    "\n",
    "# # dom_dacha 238\n",
    "# path_to_books = 'booky/dom_dacha'\n",
    "#scanning_text(path_to_books, expected_list)\n",
    "# # for item in expected_list:\n",
    "# #     print(item)\n",
    "\n",
    "# # fantastika 664\n",
    "# path_to_books = 'booky/fantastika'\n",
    "# scanning_text(path_to_books, expected_list)\n",
    "# # for item in expected_list:\n",
    "# #     print(item)\n",
    "\n",
    "# # fentezi 98\n",
    "# path_to_books = 'booky/fentezi'\n",
    "# scanning_text(path_to_books, expected_list)\n",
    "# # for item in expected_list:\n",
    "# #     print(item)\n",
    "\n",
    "# # hobbi_dosug 677\n",
    "# path_to_books = 'booky/hobbi_dosug'\n",
    "# scanning_text(path_to_books, expected_list)\n",
    "# # for item in expected_list:\n",
    "# #     print(item)\n",
    "\n",
    "# # romani 682\n",
    "# path_to_books = 'booky/romani'\n",
    "# scanning_text(path_to_books, expected_list)\n",
    "# # for item in expected_list:\n",
    "# #     print(item)\n",
    "\n",
    "# # # sport_zdorove_krasota 660\n",
    "path_to_books = 'booky/sport_zdorove_krasota'\n",
    "scanning_text(path_to_books, expected_list)\n",
    "# # for item in expected_list:\n",
    "# #     print(item)\n"
   ]
  },
  {
   "cell_type": "code",
   "execution_count": null,
   "id": "c7f07e7d",
   "metadata": {},
   "outputs": [],
   "source": [
    "df = pd.DataFrame(expected_list, columns=[\"text\", \"label\"])\n",
    "print(df.head())"
   ]
  },
  {
   "cell_type": "code",
   "execution_count": null,
   "id": "d9911d60",
   "metadata": {},
   "outputs": [],
   "source": [
    "df.to_csv(\"books_dataset.csv\", index=False, encoding=\"utf-8\")\n",
    "\n",
    "print(\"CSV file saved successfully!\")"
   ]
  },
  {
   "cell_type": "code",
   "execution_count": 3,
   "id": "e991cad6",
   "metadata": {},
   "outputs": [
    {
     "name": "stderr",
     "output_type": "stream",
     "text": [
      "[nltk_data] Downloading package stopwords to\n",
      "[nltk_data]     /home/hayarpi/nltk_data...\n",
      "[nltk_data]   Package stopwords is already up-to-date!\n"
     ]
    }
   ],
   "source": [
    "import nltk\n",
    "from sklearn.model_selection import train_test_split\n",
    "from sklearn.feature_extraction.text import TfidfVectorizer\n",
    "from nltk.corpus import stopwords\n",
    "nltk.download('stopwords')\n",
    "stops = nltk.corpus.stopwords.words('russian')\n",
    "df = pd.read_csv(\"books_dataset.csv\")\n",
    "X_train, X_test, y_train, y_test = train_test_split(df['text'], df['label'], test_size=0.2, random_state=42, stratify=df['label'])\n",
    "vectorizer = TfidfVectorizer(stop_words=stops, min_df=50, max_df=4000)"
   ]
  },
  {
   "cell_type": "code",
   "execution_count": 6,
   "id": "3a9ea1e6",
   "metadata": {},
   "outputs": [
    {
     "name": "stdout",
     "output_type": "stream",
     "text": [
      "['автомобилях' 'автопилоте' 'автор' 'автора' 'авторами' 'авторе'\n",
      " 'авторитет' 'авторитета' 'авторитетом' 'авторов' 'автором' 'авторских'\n",
      " 'автору' 'авторы' 'ага' 'агент' 'агента' 'агентам' 'агентами' 'агентов'\n",
      " 'агентом' 'агентств' 'агентства' 'агентстве' 'агентство' 'агенту'\n",
      " 'агентура' 'агентуру' 'агентуры' 'агенты' 'агонии' 'агрегат' 'агрес'\n",
      " 'агрессивно' 'агрессивное' 'агрессивнои' 'агрессивные' 'агрессивныи'\n",
      " 'агрессивным' 'агрессивными' 'агрессивных' 'агрессиеи' 'агрессии'\n",
      " 'агрессию' 'агрессия' 'ад' 'ада' 'адам' 'адама' 'адап' 'адаптации'\n",
      " 'адаптация' 'адаптировать' 'адаптироваться' 'адаптируется' 'адвокат'\n",
      " 'адвоката' 'адвокатов' 'адвокатом' 'адвокаты' 'адекватно' 'адекватныи'\n",
      " 'адми' 'админи' 'администра' 'административного' 'административнои'\n",
      " 'административные' 'административныи' 'административных' 'администратор'\n",
      " 'администратора' 'администратором' 'администратору' 'администрациеи'\n",
      " 'администрации' 'администрацию' 'администрация' 'адмирал' 'адмирала'\n",
      " 'адреналин' 'адреналина' 'адрес' 'адреса' 'адресована' 'адресом' 'адресу'\n",
      " 'адская' 'адскии' 'адскои' 'аду' 'адъютант' 'аж' 'ажиотаж' 'азарт'\n",
      " 'азарта' 'азартно' 'азартные' 'азартом' 'азбука' 'азбукааттикус'\n",
      " 'азиатских' 'азиатскои' 'азии' 'азию' 'азота' 'азы' 'аи' 'аида'\n",
      " 'аисберга' 'аифон' 'ака' 'академии' 'академик' 'академика'\n",
      " 'академических' 'академию' 'академия' 'аки' 'аккаунт' 'аккомпанемент'\n",
      " 'аккорды' 'акку' 'аккумулятор' 'аккурат' 'аккуратная' 'аккуратнее'\n",
      " 'аккуратно' 'аккуратнои' 'аккуратные' 'аккуратныи' 'аккуратным'\n",
      " 'аккуратными' 'аксессуары' 'акт' 'акта' 'актер' 'актера' 'актеров'\n",
      " 'актером' 'актеры' 'акти' 'актив' 'активации' 'активация' 'активировал'\n",
      " 'активировала' 'активировать' 'активная' 'активнее' 'активно' 'активного'\n",
      " 'активное' 'активнои' 'активном' 'активности' 'активность' 'активностью'\n",
      " 'активную' 'активны' 'активные' 'активныи' 'активным' 'активными'\n",
      " 'активных' 'активов' 'активы' 'актов' 'актом' 'актриса' 'актрисои'\n",
      " 'актрисы' 'актуальна' 'актуально' 'актуальнои' 'актуальность' 'актуальны'\n",
      " 'актуальные' 'актуальным' 'актуальных' 'акты' 'акула' 'акулы' 'акцент'\n",
      " 'акцента' 'акцентом' 'акценты' 'акции' 'акционеров' 'акцию' 'акция' 'ала'\n",
      " 'алан' 'алая' 'алгоритм' 'алгоритмов' 'алгоритмы' 'але' 'алек' 'алекс'\n",
      " 'алекса' 'алексан' 'александр' 'александра' 'александрович'\n",
      " 'александровича' 'александровна' 'александром' 'александру' 'алексеевич'\n",
      " 'алексеем' 'алексеи' 'алексею' 'алексея' 'алена' 'али' 'алиби' 'алина'\n",
      " 'алиса' 'алису' 'алисы' 'алкаш' 'алко' 'алкоголем' 'алкоголик' 'алкоголь'\n",
      " 'алкогольного' 'алкоголю' 'алкоголя' 'алла' 'аллее' 'аллеи' 'аллергии'\n",
      " 'аллергия' 'аллею' 'алло' 'алмаз' 'алои' 'алтарь' 'алтарю' 'алтаря'\n",
      " 'алчность' 'алые' 'алыи' 'алым' 'алыми' 'алых' 'аль' 'альберт' 'альберта'\n",
      " 'альбом' 'ально' 'ального' 'альнои' 'альные' 'альныи' 'альным' 'альных'\n",
      " 'альпина' 'альтернатив' 'альтернатива' 'альтернативные' 'альтернативных'\n",
      " 'альтернативу' 'альтернативы' 'альфа' 'альцгеимера' 'аля' 'амбал'\n",
      " 'амбиции' 'амбициями' 'аме' 'амери' 'америка' 'американ' 'американец'\n",
      " 'американская' 'американские' 'американскии' 'американским'\n",
      " 'американскими' 'американских' 'американского' 'американское'\n",
      " 'американскои' 'американском' 'американскую' 'американца' 'американцам'\n",
      " 'американцами' 'американцев' 'американцы' 'америке' 'америки' 'америку'\n",
      " 'аминокислот' 'аминокислоты' 'амплуа' 'амулет' 'амулеты' 'амуницию' 'ан'\n",
      " 'ана' 'анализ' 'анализа' 'анализе' 'анализировал' 'анализировать'\n",
      " 'анализирует' 'анализируя' 'анализов' 'анализом' 'анализу' 'анализы'\n",
      " 'аналитик' 'аналитика' 'аналитики' 'аналитиков' 'аналитические'\n",
      " 'аналитическии' 'аналог' 'аналоги' 'аналогии' 'аналогично' 'аналогичные'\n",
      " 'аналогичныи' 'аналогичным' 'аналогичных' 'аналогию' 'аналогия'\n",
      " 'аналогов' 'ананас' 'анастасии' 'анастасия' 'анатолии' 'анатольевич'\n",
      " 'анатомии' 'ангар' 'ангара' 'ангаре' 'ангел' 'ангела' 'ангелов' 'ангелом'\n",
      " 'ангелы' 'англ' 'англии' 'англииская' 'англииские' 'англиискии'\n",
      " 'англииским' 'англииских' 'англииского' 'англииское' 'англиискои'\n",
      " 'англииском' 'англиискую' 'англичан' 'англичане' 'англичанин' 'англию'\n",
      " 'англия' 'андреевич' 'андреевича' 'андреевна' 'андреем' 'андреи' 'андрею'\n",
      " 'андрея' 'андрюха' 'ане' 'анекдот' 'анекдоты' 'ани' 'анкету' 'анкеты'\n",
      " 'анна' 'анне' 'аннои' 'анну' 'анны' 'аномалии' 'аномалия' 'ансамбль'\n",
      " 'ант' 'антенны' 'анти' 'антибиотики' 'антибиотиков' 'антиоксидантами'\n",
      " 'антиоксидантов' 'антиоксиданты' 'антов' 'антон' 'антона' 'антоном'\n",
      " 'антону' 'антураж' 'анты' 'аня' 'апартаментах' 'апартаментов'\n",
      " 'апартаменты' 'апатия' 'апельсин' 'апельсина' 'апельсинового'\n",
      " 'апельсиновыи' 'апельсины' 'аплодисментами' 'аплодисменты' 'апокалипсис'\n",
      " 'апокалипсиса' 'аппа' 'аппарат' 'аппарата' 'аппарате' 'аппаратов'\n",
      " 'аппаратом' 'аппарату' 'аппаратура' 'аппаратурои' 'аппаратуру'\n",
      " 'аппаратуры' 'аппараты' 'аппе' 'аппетит' 'аппетита' 'аппетитно'\n",
      " 'аппетитные' 'аппетитныи' 'аппетитом' 'апреле' 'апрель' 'апреля'\n",
      " 'априори' 'аптеке' 'аптеки' 'аптеку' 'аптечка' 'аптечки' 'аптечку' 'араб'\n",
      " 'арабских' 'арабы' 'арбуз' 'аргумент' 'аргументов' 'аргументы' 'аре'\n",
      " 'аренда' 'арендовал' 'арендовать' 'аренду' 'аренды' 'арене' 'арену'\n",
      " 'арены' 'арест' 'ареста' 'аресте' 'арестовали' 'арестован' 'арестованных'\n",
      " 'арестованы' 'арестовать' 'арестовывать' 'арестом' 'арестуют' 'ари'\n",
      " 'аристократ' 'аристократа' 'аристократии' 'аристократов' 'аристократы'\n",
      " 'арка' 'аркадии' 'арке' 'арки' 'аркои' 'арку' 'армеиская' 'армеиские'\n",
      " 'армеискии' 'армеиским' 'армеиских' 'армеиского' 'армеискои' 'армиеи'\n",
      " 'армии' 'армию' 'армия' 'аро' 'аромат' 'аромата' 'ароматами' 'ароматного'\n",
      " 'ароматные' 'ароматныи' 'ароматным']\n",
      "Total vocabulary size: 51029\n"
     ]
    }
   ],
   "source": [
    "# Սա հետո հանել\n",
    "# Fit vectorizer on training data\n",
    "X_train_tfidf = vectorizer.fit_transform(X_train)\n",
    "\n",
    "# Get vocabulary (all words kept after stopword removal)\n",
    "vocab = vectorizer.get_feature_names_out()\n",
    "\n",
    "# Print some vocabulary words\n",
    "print(vocab[500:1000])  # Show the 500 words\n",
    "print(\"Total vocabulary size:\", len(vocab))\n"
   ]
  },
  {
   "cell_type": "markdown",
   "id": "c4632b3c",
   "metadata": {},
   "source": [
    "ComplementNB"
   ]
  },
  {
   "cell_type": "code",
   "execution_count": 10,
   "id": "56d1e1cc",
   "metadata": {},
   "outputs": [
    {
     "name": "stdout",
     "output_type": "stream",
     "text": [
      "Training Set Accuracy : 77.724399494311 %\n",
      "\n",
      "Test Set Accuracy : 68.95854398382204 % \n",
      "\n",
      "\n",
      "Classifier Report : \n",
      "\n",
      "                              precision    recall  f1-score   support\n",
      "\n",
      "              boeviki_books       0.59      0.51      0.55       127\n",
      "             business_books       0.77      0.98      0.86       122\n",
      "            detektivy_books       0.70      0.70      0.70       136\n",
      "            dom_dacha_books       0.83      0.52      0.64        48\n",
      "           fantastika_books       0.63      0.57      0.60       133\n",
      "              fentezi_books       0.00      0.00      0.00        20\n",
      "          hobbi_dosug_books       0.83      0.48      0.61       135\n",
      "               romani_books       0.59      0.93      0.72       136\n",
      "sport_zdorove_krasota_books       0.75      0.83      0.79       132\n",
      "\n",
      "                   accuracy                           0.69       989\n",
      "                  macro avg       0.63      0.61      0.61       989\n",
      "               weighted avg       0.69      0.69      0.67       989\n",
      "\n"
     ]
    },
    {
     "name": "stderr",
     "output_type": "stream",
     "text": [
      "/home/hayarpi/.cache/pypoetry/virtualenvs/books-Z80viyrd-py3.10/lib/python3.10/site-packages/sklearn/metrics/_classification.py:1565: UndefinedMetricWarning: Precision is ill-defined and being set to 0.0 in labels with no predicted samples. Use `zero_division` parameter to control this behavior.\n",
      "  _warn_prf(average, modifier, f\"{metric.capitalize()} is\", len(result))\n",
      "/home/hayarpi/.cache/pypoetry/virtualenvs/books-Z80viyrd-py3.10/lib/python3.10/site-packages/sklearn/metrics/_classification.py:1565: UndefinedMetricWarning: Precision is ill-defined and being set to 0.0 in labels with no predicted samples. Use `zero_division` parameter to control this behavior.\n",
      "  _warn_prf(average, modifier, f\"{metric.capitalize()} is\", len(result))\n",
      "/home/hayarpi/.cache/pypoetry/virtualenvs/books-Z80viyrd-py3.10/lib/python3.10/site-packages/sklearn/metrics/_classification.py:1565: UndefinedMetricWarning: Precision is ill-defined and being set to 0.0 in labels with no predicted samples. Use `zero_division` parameter to control this behavior.\n",
      "  _warn_prf(average, modifier, f\"{metric.capitalize()} is\", len(result))\n"
     ]
    }
   ],
   "source": [
    "from sklearn.metrics import accuracy_score, classification_report \n",
    "from sklearn.naive_bayes import ComplementNB\n",
    "\n",
    "X_train_tfidf = vectorizer.fit_transform(X_train)\n",
    "X_test_tfidf = vectorizer.transform(X_test)\n",
    "\n",
    "# Initializing and training the Complement Naive Bayes classifier\n",
    "cnb = ComplementNB()\n",
    "cnb.fit(X_train_tfidf, y_train)\n",
    "\n",
    "# Predicting the labels\n",
    "y_pred = cnb.predict(X_test_tfidf)\n",
    "y_pred_train = cnb.predict(X_train_tfidf)\n",
    "\n",
    "# Evaluating the classifier\n",
    "print(f\"Training Set Accuracy : {accuracy_score(y_train, y_pred_train) * 100} %\\n\")\n",
    "print(f\"Test Set Accuracy : {accuracy_score(y_test, y_pred) * 100} % \\n\\n\")\n",
    "print(f\"Classifier Report : \\n\\n {classification_report(y_test, y_pred)}\")\n"
   ]
  },
  {
   "cell_type": "markdown",
   "id": "9ffb35d5",
   "metadata": {},
   "source": [
    "MultinomialNB"
   ]
  },
  {
   "cell_type": "code",
   "execution_count": null,
   "id": "6821b67d",
   "metadata": {},
   "outputs": [
    {
     "name": "stdout",
     "output_type": "stream",
     "text": [
      "Training Set Accuracy : 73.98230088495575 %\n",
      "\n",
      "Test Set Accuracy : 66.43073811931244 % \n",
      "\n",
      "\n",
      "Classifier Report : \n",
      "\n",
      "                              precision    recall  f1-score   support\n",
      "\n",
      "              boeviki_books       0.65      0.44      0.53       127\n",
      "             business_books       0.85      0.92      0.88       122\n",
      "            detektivy_books       0.58      0.78      0.67       136\n",
      "            dom_dacha_books       1.00      0.12      0.22        48\n",
      "           fantastika_books       0.59      0.62      0.61       133\n",
      "              fentezi_books       0.00      0.00      0.00        20\n",
      "          hobbi_dosug_books       0.76      0.44      0.56       135\n",
      "               romani_books       0.57      0.92      0.70       136\n",
      "sport_zdorove_krasota_books       0.75      0.83      0.79       132\n",
      "\n",
      "                   accuracy                           0.66       989\n",
      "                  macro avg       0.64      0.56      0.55       989\n",
      "               weighted avg       0.68      0.66      0.64       989\n",
      "\n"
     ]
    },
    {
     "name": "stderr",
     "output_type": "stream",
     "text": [
      "/home/hayarpi/.cache/pypoetry/virtualenvs/books-Z80viyrd-py3.10/lib/python3.10/site-packages/sklearn/metrics/_classification.py:1565: UndefinedMetricWarning: Precision is ill-defined and being set to 0.0 in labels with no predicted samples. Use `zero_division` parameter to control this behavior.\n",
      "  _warn_prf(average, modifier, f\"{metric.capitalize()} is\", len(result))\n",
      "/home/hayarpi/.cache/pypoetry/virtualenvs/books-Z80viyrd-py3.10/lib/python3.10/site-packages/sklearn/metrics/_classification.py:1565: UndefinedMetricWarning: Precision is ill-defined and being set to 0.0 in labels with no predicted samples. Use `zero_division` parameter to control this behavior.\n",
      "  _warn_prf(average, modifier, f\"{metric.capitalize()} is\", len(result))\n",
      "/home/hayarpi/.cache/pypoetry/virtualenvs/books-Z80viyrd-py3.10/lib/python3.10/site-packages/sklearn/metrics/_classification.py:1565: UndefinedMetricWarning: Precision is ill-defined and being set to 0.0 in labels with no predicted samples. Use `zero_division` parameter to control this behavior.\n",
      "  _warn_prf(average, modifier, f\"{metric.capitalize()} is\", len(result))\n"
     ]
    }
   ],
   "source": [
    "from sklearn.metrics import accuracy_score, classification_report \n",
    "from sklearn.naive_bayes import MultinomialNB\n",
    "\n",
    "X_train_tfidf = vectorizer.fit_transform(X_train)\n",
    "X_test_tfidf = vectorizer.transform(X_test)\n",
    "\n",
    "mnb = MultinomialNB()\n",
    "mnb.fit(X_train_tfidf, y_train)\n",
    "\n",
    "y_pred = mnb.predict(X_test_tfidf)\n",
    "y_pred_train = mnb.predict(X_train_tfidf)\n",
    "\n",
    "print(f\"Training Set Accuracy : {accuracy_score(y_train, y_pred_train) * 100} %\\n\")\n",
    "print(f\"Test Set Accuracy : {accuracy_score(y_test, y_pred) * 100} % \\n\\n\")\n",
    "print(f\"Classifier Report : \\n\\n {classification_report(y_test, y_pred)}\")"
   ]
  },
  {
   "cell_type": "markdown",
   "id": "9b94a8df",
   "metadata": {},
   "source": [
    "SVC"
   ]
  },
  {
   "cell_type": "code",
   "execution_count": 8,
   "id": "0628dfeb",
   "metadata": {},
   "outputs": [
    {
     "name": "stdout",
     "output_type": "stream",
     "text": [
      "Training Set Accuracy : 92.26295828065739 %\n",
      "\n",
      "Test Set Accuracy : 76.84529828109201 % \n",
      "\n",
      "\n",
      "Classifier Report : \n",
      "\n",
      "                              precision    recall  f1-score   support\n",
      "\n",
      "              boeviki_books       0.61      0.65      0.63       127\n",
      "             business_books       0.94      0.91      0.93       122\n",
      "            detektivy_books       0.80      0.76      0.78       136\n",
      "            dom_dacha_books       0.77      0.62      0.69        48\n",
      "           fantastika_books       0.72      0.71      0.71       133\n",
      "              fentezi_books       0.93      0.70      0.80        20\n",
      "          hobbi_dosug_books       0.72      0.70      0.71       135\n",
      "               romani_books       0.78      0.88      0.83       136\n",
      "sport_zdorove_krasota_books       0.80      0.84      0.82       132\n",
      "\n",
      "                   accuracy                           0.77       989\n",
      "                  macro avg       0.79      0.75      0.77       989\n",
      "               weighted avg       0.77      0.77      0.77       989\n",
      "\n"
     ]
    }
   ],
   "source": [
    "from sklearn.metrics import accuracy_score, classification_report \n",
    "from sklearn.svm import SVC\n",
    "\n",
    "X_train_tfidf = vectorizer.fit_transform(X_train)\n",
    "X_test_tfidf = vectorizer.transform(X_test)\n",
    "\n",
    "svc = SVC(kernel='linear') # better for text classification\n",
    "svc.fit(X_train_tfidf, y_train)\n",
    "\n",
    "y_pred = svc.predict(X_test_tfidf)\n",
    "y_pred_train = svc.predict(X_train_tfidf)\n",
    "\n",
    "print(f\"Training Set Accuracy : {accuracy_score(y_train, y_pred_train) * 100} %\\n\")\n",
    "print(f\"Test Set Accuracy : {accuracy_score(y_test, y_pred) * 100} % \\n\\n\")\n",
    "print(f\"Classifier Report : \\n\\n {classification_report(y_test, y_pred)}\")"
   ]
  },
  {
   "cell_type": "markdown",
   "id": "53e03064",
   "metadata": {},
   "source": [
    "LogisticRegression"
   ]
  },
  {
   "cell_type": "code",
   "execution_count": 3,
   "id": "3384649b",
   "metadata": {},
   "outputs": [
    {
     "name": "stdout",
     "output_type": "stream",
     "text": [
      "Training Set Accuracy : 88.6472819216182 %\n",
      "\n",
      "Test Set Accuracy : 74.51971688574316 % \n",
      "\n",
      "\n",
      "Classifier Report : \n",
      "\n",
      "                              precision    recall  f1-score   support\n",
      "\n",
      "              boeviki_books       0.65      0.61      0.63       127\n",
      "             business_books       0.95      0.91      0.93       122\n",
      "            detektivy_books       0.77      0.76      0.76       136\n",
      "            dom_dacha_books       0.84      0.54      0.66        48\n",
      "           fantastika_books       0.66      0.69      0.68       133\n",
      "              fentezi_books       1.00      0.30      0.46        20\n",
      "          hobbi_dosug_books       0.63      0.68      0.65       135\n",
      "               romani_books       0.75      0.88      0.81       136\n",
      "sport_zdorove_krasota_books       0.80      0.83      0.82       132\n",
      "\n",
      "                   accuracy                           0.75       989\n",
      "                  macro avg       0.78      0.69      0.71       989\n",
      "               weighted avg       0.75      0.75      0.74       989\n",
      "\n"
     ]
    }
   ],
   "source": [
    "from sklearn.metrics import accuracy_score, classification_report \n",
    "from sklearn.linear_model import LogisticRegression\n",
    "\n",
    "X_train_tfidf = vectorizer.fit_transform(X_train)\n",
    "X_test_tfidf = vectorizer.transform(X_test)\n",
    "\n",
    "clf = LogisticRegression(solver='saga', max_iter=1000, random_state=42)\n",
    "clf.fit(X_train_tfidf, y_train)\n",
    "\n",
    "y_pred = clf.predict(X_test_tfidf)\n",
    "y_pred_train = clf.predict(X_train_tfidf)\n",
    "\n",
    "print(f\"Training Set Accuracy : {accuracy_score(y_train, y_pred_train) * 100} %\\n\")\n",
    "print(f\"Test Set Accuracy : {accuracy_score(y_test, y_pred) * 100} % \\n\\n\")\n",
    "print(f\"Classifier Report : \\n\\n {classification_report(y_test, y_pred)}\")"
   ]
  },
  {
   "cell_type": "markdown",
   "id": "fe61bea1",
   "metadata": {},
   "source": [
    "SGDClassifier"
   ]
  },
  {
   "cell_type": "code",
   "execution_count": 4,
   "id": "153bb5a5",
   "metadata": {},
   "outputs": [
    {
     "name": "stdout",
     "output_type": "stream",
     "text": [
      "0.7644084934277048\n",
      "Accuracy:  0.7644084934277048\n"
     ]
    },
    {
     "data": {
      "image/png": "[encoded data removed]",
      "text/plain": [
       "<Figure size 600x500 with 2 Axes>"
      ]
     },
     "metadata": {},
     "output_type": "display_data"
    },
    {
     "name": "stdout",
     "output_type": "stream",
     "text": [
      "                             precision    recall  f1-score   support\n",
      "\n",
      "              boeviki_books       0.63      0.62      0.63       127\n",
      "             business_books       0.93      0.95      0.94       122\n",
      "            detektivy_books       0.81      0.76      0.78       136\n",
      "            dom_dacha_books       0.77      0.69      0.73        48\n",
      "           fantastika_books       0.69      0.72      0.71       133\n",
      "              fentezi_books       0.68      0.75      0.71        20\n",
      "          hobbi_dosug_books       0.71      0.66      0.68       135\n",
      "               romani_books       0.81      0.85      0.83       136\n",
      "sport_zdorove_krasota_books       0.79      0.82      0.80       132\n",
      "\n",
      "                   accuracy                           0.76       989\n",
      "                  macro avg       0.76      0.76      0.76       989\n",
      "               weighted avg       0.76      0.76      0.76       989\n",
      "\n"
     ]
    }
   ],
   "source": [
    "import numpy as np\n",
    "from sklearn.linear_model import SGDClassifier\n",
    "from sklearn.metrics import accuracy_score, classification_report, confusion_matrix\n",
    "import matplotlib.pyplot as plt\n",
    "import seaborn as sns\n",
    "\n",
    "def draw_Conf(y_pred, model):\n",
    "    cm = confusion_matrix(y_test, y_pred)\n",
    "    plt.figure(figsize=(6, 5))\n",
    "    sns.heatmap(cm, annot=True, fmt='d', cmap='viridis', xticklabels=set(y_test), yticklabels=set(y_test))\n",
    "    plt.xlabel(\"Predicted label\")\n",
    "    plt.ylabel(\"True label\")\n",
    "    plt.title(\"Confusion Matrix\")\n",
    "    plt.show()\n",
    "\n",
    "X_train_vec = vectorizer.fit_transform(X_train)\n",
    "X_test_vec = vectorizer.transform(X_test)\n",
    "\n",
    "sgd1 = SGDClassifier()\n",
    "sgd1.fit(X_train_vec, y_train)\n",
    "\n",
    "print(sgd1.score(X_test_vec, y_test))\n",
    "\n",
    "y_pred_sgd1 = sgd1.predict(X_test_vec)\n",
    "\n",
    "accuracy = accuracy_score(y_test, y_pred_sgd1)\n",
    "print(\"Accuracy: \", accuracy)\n",
    "\n",
    "draw_Conf(y_pred_sgd1, sgd1)\n",
    "print(classification_report(y_test, y_pred_sgd1))\n",
    "\n"
   ]
  },
  {
   "cell_type": "code",
   "execution_count": 6,
   "id": "5f805fd9",
   "metadata": {},
   "outputs": [],
   "source": [
    "# import pickle\n",
    "from joblib import dump\n",
    "import pickle\n",
    "\n",
    "# # Save the SGDClassifier model\n",
    "# dump(sgd1, 'sgd_classifier_model.joblib')\n",
    "# # Save the vectorizer\n",
    "# dump(vectorizer, 'vectorize_sgd1_678.joblib')\n",
    "\n",
    "with open(\"book_genre_classification/book/sgd1_678.pkl\", \"wb\") as f:\n",
    "    pickle.dump(sgd1, f)\n",
    "\n"
   ]
  },
  {
   "cell_type": "markdown",
   "id": "e2a4feb4",
   "metadata": {},
   "source": [
    "RidgeClassifier"
   ]
  },
  {
   "cell_type": "code",
   "execution_count": 10,
   "id": "ae3e0017",
   "metadata": {},
   "outputs": [
    {
     "name": "stdout",
     "output_type": "stream",
     "text": [
      "Training Set Accuracy : 94.51327433628319 %\n",
      "\n",
      "Test Set Accuracy : 76.33973710819009 % \n",
      "\n",
      "\n",
      "Classifier Report : \n",
      "\n",
      "                              precision    recall  f1-score   support\n",
      "\n",
      "              boeviki_books       0.64      0.57      0.60       127\n",
      "             business_books       0.95      0.94      0.95       122\n",
      "            detektivy_books       0.75      0.78      0.76       136\n",
      "            dom_dacha_books       0.72      0.69      0.70        48\n",
      "           fantastika_books       0.72      0.76      0.74       133\n",
      "              fentezi_books       0.93      0.70      0.80        20\n",
      "          hobbi_dosug_books       0.74      0.63      0.68       135\n",
      "               romani_books       0.76      0.88      0.82       136\n",
      "sport_zdorove_krasota_books       0.79      0.83      0.81       132\n",
      "\n",
      "                   accuracy                           0.76       989\n",
      "                  macro avg       0.78      0.75      0.76       989\n",
      "               weighted avg       0.76      0.76      0.76       989\n",
      "\n"
     ]
    }
   ],
   "source": [
    "from sklearn.metrics import accuracy_score, classification_report\n",
    "from sklearn.linear_model import RidgeClassifier\n",
    "\n",
    "X_train_tfidf = vectorizer.fit_transform(X_train)\n",
    "X_test_tfidf = vectorizer.transform(X_test)\n",
    "\n",
    "rc = RidgeClassifier()\n",
    "rc.fit(X_train_tfidf, y_train)\n",
    "\n",
    "y_pred = rc.predict(X_test_tfidf)\n",
    "y_pred_train = rc.predict(X_train_tfidf)\n",
    "\n",
    "print(f\"Training Set Accuracy : {accuracy_score(y_train, y_pred_train) * 100} %\\n\")\n",
    "print(f\"Test Set Accuracy : {accuracy_score(y_test, y_pred) * 100} % \\n\\n\")\n",
    "print(f\"Classifier Report : \\n\\n {classification_report(y_test, y_pred)}\")"
   ]
  },
  {
   "cell_type": "markdown",
   "id": "88bc099a",
   "metadata": {},
   "source": [
    "RandomForestClassifier"
   ]
  },
  {
   "cell_type": "code",
   "execution_count": 11,
   "id": "50fa1943",
   "metadata": {},
   "outputs": [
    {
     "name": "stdout",
     "output_type": "stream",
     "text": [
      "Training Set Accuracy : 95.34766118836914 %\n",
      "\n",
      "Test Set Accuracy : 66.6329625884732 % \n",
      "\n",
      "\n",
      "Classifier Report : \n",
      "\n",
      "                              precision    recall  f1-score   support\n",
      "\n",
      "              boeviki_books       0.60      0.49      0.54       127\n",
      "             business_books       0.83      0.91      0.87       122\n",
      "            detektivy_books       0.76      0.76      0.76       136\n",
      "            dom_dacha_books       0.44      0.15      0.22        48\n",
      "           fantastika_books       0.56      0.57      0.57       133\n",
      "              fentezi_books       0.29      0.10      0.15        20\n",
      "          hobbi_dosug_books       0.52      0.56      0.54       135\n",
      "               romani_books       0.72      0.88      0.79       136\n",
      "sport_zdorove_krasota_books       0.70      0.77      0.74       132\n",
      "\n",
      "                   accuracy                           0.67       989\n",
      "                  macro avg       0.60      0.58      0.57       989\n",
      "               weighted avg       0.65      0.67      0.65       989\n",
      "\n"
     ]
    }
   ],
   "source": [
    "from sklearn.metrics import accuracy_score, classification_report\n",
    "from sklearn.ensemble import RandomForestClassifier\n",
    "\n",
    "X_train_tfidf = vectorizer.fit_transform(X_train)\n",
    "X_test_tfidf = vectorizer.transform(X_test)\n",
    "\n",
    "rfc = RandomForestClassifier(n_estimators = 100)  \n",
    "rfc.fit(X_train_tfidf, y_train)\n",
    "\n",
    "y_pred = rfc.predict(X_test_tfidf)\n",
    "y_pred_train = rfc.predict(X_train_tfidf)\n",
    "\n",
    "print(f\"Training Set Accuracy : {accuracy_score(y_train, y_pred_train) * 100} %\\n\")\n",
    "print(f\"Test Set Accuracy : {accuracy_score(y_test, y_pred) * 100} % \\n\\n\")\n",
    "print(f\"Classifier Report : \\n\\n {classification_report(y_test, y_pred)}\")"
   ]
  }
 ],
 "metadata": {
  "kernelspec": {
   "display_name": "books-Z80viyrd-py3.10",
   "language": "python",
   "name": "python3"
  },
  "language_info": {
   "codemirror_mode": {
    "name": "ipython",
    "version": 3
   },
   "file_extension": ".py",
   "mimetype": "text/x-python",
   "name": "python",
   "nbconvert_exporter": "python",
   "pygments_lexer": "ipython3",
   "version": "3.10.16"
  }
 },
 "nbformat": 4,
 "nbformat_minor": 5
}
